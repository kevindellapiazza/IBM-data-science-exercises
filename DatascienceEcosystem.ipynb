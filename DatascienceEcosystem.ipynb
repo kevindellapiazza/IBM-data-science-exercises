{
 "cells": [
  {
   "cell_type": "markdown",
   "id": "039678e4-c85d-4bde-9d51-880216759e15",
   "metadata": {},
   "source": [
    "# Data Science Tools and Ecosystem\n"
   ]
  },
  {
   "cell_type": "markdown",
   "id": "5536be21-61c5-419a-8767-635ee144415d",
   "metadata": {},
   "source": [
    "In this notebook, Data Science Tools and Ecosystem are summarized.\n"
   ]
  },
  {
   "cell_type": "markdown",
   "id": "8fb47d52-9b95-46e8-bd78-75a5caa66daf",
   "metadata": {},
   "source": [
    "__Objectives:__\n",
    "- List popular languages for Data Science\n",
    "- List populare libraries for data science\n",
    "- Show an example of a mathematical operation"
   ]
  },
  {
   "cell_type": "markdown",
   "id": "35705806-52b9-4440-ba65-73d9b932d74e",
   "metadata": {},
   "source": [
    "Some of the popular languages that Data Scientists use are\n",
    "1. python\n",
    "2. R\n",
    "3. SQL"
   ]
  },
  {
   "cell_type": "markdown",
   "id": "16e69e16-9a29-4a41-b0b7-7d1ea3cae0f2",
   "metadata": {},
   "source": [
    "Some of the commonly used libraries used by Data Scientists include:\n",
    "1. Pandas\n",
    "2. Numpy\n",
    "3. Matplotlib"
   ]
  },
  {
   "cell_type": "markdown",
   "id": "44601190-7a1e-4bc1-b555-aa277819a2d2",
   "metadata": {},
   "source": [
    "|data science tools|\n",
    "|-----|\n",
    "|jupyterlab|\n",
    "|Rstudio| \n",
    "|VS Code|"
   ]
  },
  {
   "cell_type": "markdown",
   "id": "1df4401a-b913-4455-8484-2cea2d4c7acb",
   "metadata": {},
   "source": [
    "### Below are a few examples of evaluating arithmetic expressions in Python"
   ]
  },
  {
   "cell_type": "markdown",
   "id": "a7da5d81-960e-441a-8619-9826a80de287",
   "metadata": {},
   "source": [
    "This a simple arithmetic expression to mutiply then add integers"
   ]
  },
  {
   "cell_type": "code",
   "execution_count": 19,
   "id": "701b8b44-0cbd-460f-85b8-2949fda46bfe",
   "metadata": {},
   "outputs": [
    {
     "data": {
      "text/plain": [
       "17"
      ]
     },
     "execution_count": 19,
     "metadata": {},
     "output_type": "execute_result"
    }
   ],
   "source": [
    "(3*4)+5"
   ]
  },
  {
   "cell_type": "markdown",
   "id": "7ab6c7a6-80ef-4213-beb6-a2f4b5a57002",
   "metadata": {},
   "source": [
    "This will convert 200 minutes to hours by diving by 60"
   ]
  },
  {
   "cell_type": "code",
   "execution_count": 30,
   "id": "d01f0c85-cd95-48f6-bb37-60c598dbe62a",
   "metadata": {},
   "outputs": [
    {
     "data": {
      "text/plain": [
       "3.3333333333333335"
      ]
     },
     "execution_count": 30,
     "metadata": {},
     "output_type": "execute_result"
    }
   ],
   "source": [
    "minutes = 200\n",
    "hours = minutes / 60\n",
    "hours"
   ]
  },
  {
   "cell_type": "markdown",
   "id": "dfc8e4d7-1a20-4efc-a52b-6c5aa7eef077",
   "metadata": {},
   "source": [
    "## Author\n",
    "Kevin della piazza"
   ]
  }
 ],
 "metadata": {
  "kernelspec": {
   "display_name": "Python 3 (ipykernel)",
   "language": "python",
   "name": "python3"
  },
  "language_info": {
   "codemirror_mode": {
    "name": "ipython",
    "version": 3
   },
   "file_extension": ".py",
   "mimetype": "text/x-python",
   "name": "python",
   "nbconvert_exporter": "python",
   "pygments_lexer": "ipython3",
   "version": "3.12.4"
  }
 },
 "nbformat": 4,
 "nbformat_minor": 5
}
